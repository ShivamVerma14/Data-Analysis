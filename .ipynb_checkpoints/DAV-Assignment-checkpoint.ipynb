{
 "cells": [
  {
   "cell_type": "markdown",
   "id": "fec0cb46",
   "metadata": {},
   "source": [
    "### Q1. Taking Iris data, plot the following with proper legend and axis labels: (Download IRIS data from: https://archive.ics.uci.edu/ml/datasets/iris or import it from sklearn.datasets). Interpret each graph in words. "
   ]
  },
  {
   "cell_type": "code",
   "execution_count": 1,
   "id": "e2981b9c",
   "metadata": {},
   "outputs": [
    {
     "name": "stderr",
     "output_type": "stream",
     "text": [
      "Matplotlib is building the font cache; this may take a moment.\n"
     ]
    }
   ],
   "source": [
    "import pandas as pd\n",
    "import seaborn as sns\n",
    "import matplotlib.pyplot as plt"
   ]
  },
  {
   "cell_type": "code",
   "execution_count": 2,
   "id": "8ec12418",
   "metadata": {},
   "outputs": [],
   "source": [
    "from sklearn.datasets import load_iris"
   ]
  },
  {
   "cell_type": "code",
   "execution_count": 3,
   "id": "d1652cb9",
   "metadata": {},
   "outputs": [],
   "source": [
    "data = load_iris()"
   ]
  },
  {
   "cell_type": "markdown",
   "id": "26bb7f51",
   "metadata": {},
   "source": [
    "#### Plot bar chart to show the frequency of each class label in the data."
   ]
  },
  {
   "cell_type": "code",
   "execution_count": 4,
   "id": "034c4d02",
   "metadata": {},
   "outputs": [
    {
     "data": {
      "text/plain": [
       "<BarContainer object of 3 artists>"
      ]
     },
     "execution_count": 4,
     "metadata": {},
     "output_type": "execute_result"
    },
    {
     "data": {
      "image/png": "[encoded data removed]",
      "text/plain": [
       "<Figure size 432x288 with 1 Axes>"
      ]
     },
     "metadata": {
      "needs_background": "light"
     },
     "output_type": "display_data"
    }
   ],
   "source": [
    "plt.bar(data.target_names, [50, 50, 50])"
   ]
  },
  {
   "cell_type": "markdown",
   "id": "25307b4d",
   "metadata": {},
   "source": [
    "#### Draw a scatter plot for Petal width vs sepal width. "
   ]
  },
  {
   "cell_type": "code",
   "execution_count": 5,
   "id": "c879466a",
   "metadata": {},
   "outputs": [
    {
     "data": {
      "text/html": [
       "<div>\n",
       "<style scoped>\n",
       "    .dataframe tbody tr th:only-of-type {\n",
       "        vertical-align: middle;\n",
       "    }\n",
       "\n",
       "    .dataframe tbody tr th {\n",
       "        vertical-align: top;\n",
       "    }\n",
       "\n",
       "    .dataframe thead th {\n",
       "        text-align: right;\n",
       "    }\n",
       "</style>\n",
       "<table border=\"1\" class=\"dataframe\">\n",
       "  <thead>\n",
       "    <tr style=\"text-align: right;\">\n",
       "      <th></th>\n",
       "      <th>sepal length (cm)</th>\n",
       "      <th>sepal width (cm)</th>\n",
       "      <th>petal length (cm)</th>\n",
       "      <th>petal width (cm)</th>\n",
       "    </tr>\n",
       "  </thead>\n",
       "  <tbody>\n",
       "    <tr>\n",
       "      <th>0</th>\n",
       "      <td>5.1</td>\n",
       "      <td>3.5</td>\n",
       "      <td>1.4</td>\n",
       "      <td>0.2</td>\n",
       "    </tr>\n",
       "    <tr>\n",
       "      <th>1</th>\n",
       "      <td>4.9</td>\n",
       "      <td>3.0</td>\n",
       "      <td>1.4</td>\n",
       "      <td>0.2</td>\n",
       "    </tr>\n",
       "    <tr>\n",
       "      <th>2</th>\n",
       "      <td>4.7</td>\n",
       "      <td>3.2</td>\n",
       "      <td>1.3</td>\n",
       "      <td>0.2</td>\n",
       "    </tr>\n",
       "    <tr>\n",
       "      <th>3</th>\n",
       "      <td>4.6</td>\n",
       "      <td>3.1</td>\n",
       "      <td>1.5</td>\n",
       "      <td>0.2</td>\n",
       "    </tr>\n",
       "    <tr>\n",
       "      <th>4</th>\n",
       "      <td>5.0</td>\n",
       "      <td>3.6</td>\n",
       "      <td>1.4</td>\n",
       "      <td>0.2</td>\n",
       "    </tr>\n",
       "  </tbody>\n",
       "</table>\n",
       "</div>"
      ],
      "text/plain": [
       "   sepal length (cm)  sepal width (cm)  petal length (cm)  petal width (cm)\n",
       "0                5.1               3.5                1.4               0.2\n",
       "1                4.9               3.0                1.4               0.2\n",
       "2                4.7               3.2                1.3               0.2\n",
       "3                4.6               3.1                1.5               0.2\n",
       "4                5.0               3.6                1.4               0.2"
      ]
     },
     "execution_count": 5,
     "metadata": {},
     "output_type": "execute_result"
    }
   ],
   "source": [
    "frame = pd.DataFrame(data.data, columns=data.feature_names)\n",
    "frame.head()"
   ]
  },
  {
   "cell_type": "code",
   "execution_count": 6,
   "id": "b0230b67",
   "metadata": {},
   "outputs": [],
   "source": [
    "sepalWidth = data.feature_names[1]\n",
    "petalWidth = data.feature_names[3]"
   ]
  },
  {
   "cell_type": "code",
   "execution_count": 7,
   "id": "6e9ecfd9",
   "metadata": {},
   "outputs": [
    {
     "data": {
      "image/png": "[encoded data removed]",
      "text/plain": [
       "<Figure size 432x288 with 1 Axes>"
      ]
     },
     "metadata": {
      "needs_background": "light"
     },
     "output_type": "display_data"
    }
   ],
   "source": [
    "plt.scatter(frame[petalWidth], frame[sepalWidth])\n",
    "plt.title('Scatter Plot: Petal Width VS Sepal Width')\n",
    "plt.xlabel('Petal Width')\n",
    "plt.ylabel('Sepal Width')\n",
    "plt.show()"
   ]
  },
  {
   "cell_type": "markdown",
   "id": "93d2dba2",
   "metadata": {},
   "source": [
    "#### Plot the pie chart for the class feature."
   ]
  },
  {
   "cell_type": "code",
   "execution_count": 8,
   "id": "9a23dfe3",
   "metadata": {},
   "outputs": [
    {
     "data": {
      "image/png": "[encoded data removed]",
      "text/plain": [
       "<Figure size 432x288 with 1 Axes>"
      ]
     },
     "metadata": {},
     "output_type": "display_data"
    }
   ],
   "source": [
    "plt.pie([50, 50, 50], labels = data.target_names)\n",
    "plt.show()"
   ]
  },
  {
   "cell_type": "markdown",
   "id": "2c0df93e",
   "metadata": {},
   "source": [
    "#### Draw histogram for Petal length. "
   ]
  },
  {
   "cell_type": "code",
   "execution_count": 9,
   "id": "0e503d7f",
   "metadata": {},
   "outputs": [],
   "source": [
    "petalLength = data.feature_names[2]"
   ]
  },
  {
   "cell_type": "code",
   "execution_count": 10,
   "id": "f4990c5b",
   "metadata": {},
   "outputs": [
    {
     "data": {
      "image/png": "[encoded data removed]",
      "text/plain": [
       "<Figure size 432x288 with 1 Axes>"
      ]
     },
     "metadata": {
      "needs_background": "light"
     },
     "output_type": "display_data"
    }
   ],
   "source": [
    "plt.hist(frame[petalLength], facecolor='g', alpha=0.75)\n",
    "plt.title('Histogram of Petal Length')\n",
    "plt.xlabel('Petal Length')\n",
    "plt.ylabel('Frequency')\n",
    "plt.show()"
   ]
  },
  {
   "cell_type": "markdown",
   "id": "f8b94399",
   "metadata": {},
   "source": [
    "### Q5. Write a python program:\n",
    "#### i. To find the sum of all items in a dictionary (without using inbuilt function)."
   ]
  },
  {
   "cell_type": "code",
   "execution_count": 11,
   "id": "e1ae63b0",
   "metadata": {},
   "outputs": [
    {
     "name": "stdout",
     "output_type": "stream",
     "text": [
      "Sum of values in dictionary:  600\n"
     ]
    }
   ],
   "source": [
    "def returnSum(dict):\n",
    "    sum = 0\n",
    "    for value in dict.values():\n",
    "        sum += value\n",
    "        \n",
    "    return sum\n",
    "\n",
    "dict = {'a': 100, 'b': 200, 'c': 300}\n",
    "print('Sum of values in dictionary: ', returnSum(dict))"
   ]
  },
  {
   "cell_type": "markdown",
   "id": "66cd3578",
   "metadata": {},
   "source": [
    "#### ii. To find common rows between two given DataFrames."
   ]
  },
  {
   "cell_type": "code",
   "execution_count": 12,
   "id": "adcf7295",
   "metadata": {},
   "outputs": [],
   "source": [
    "import pandas as pd\n",
    "\n",
    "first_dict = {\n",
    "    \"Car\": ['BMW', 'Lexus', 'Audi', 'Tesla', 'Bentley', 'Jaguar'],\n",
    "    \"Units\": [100, 150, 110, 80, 110, 90]\n",
    "}\n",
    "\n",
    "second_dict = {\n",
    "    \"Car\": ['BMW', 'Lexus', 'Audi', 'Mustang', 'Bentley', 'Jaguar'],\n",
    "    \"Units\": [100, 250, 150, 80, 130, 90]\n",
    "}\n",
    "\n",
    "first_frame = pd.DataFrame(first_dict)\n",
    "second_frame = pd.DataFrame(second_dict)"
   ]
  },
  {
   "cell_type": "code",
   "execution_count": 13,
   "id": "c65f88d2",
   "metadata": {},
   "outputs": [
    {
     "data": {
      "text/html": [
       "<div>\n",
       "<style scoped>\n",
       "    .dataframe tbody tr th:only-of-type {\n",
       "        vertical-align: middle;\n",
       "    }\n",
       "\n",
       "    .dataframe tbody tr th {\n",
       "        vertical-align: top;\n",
       "    }\n",
       "\n",
       "    .dataframe thead th {\n",
       "        text-align: right;\n",
       "    }\n",
       "</style>\n",
       "<table border=\"1\" class=\"dataframe\">\n",
       "  <thead>\n",
       "    <tr style=\"text-align: right;\">\n",
       "      <th></th>\n",
       "      <th>Car</th>\n",
       "      <th>Units</th>\n",
       "    </tr>\n",
       "  </thead>\n",
       "  <tbody>\n",
       "    <tr>\n",
       "      <th>0</th>\n",
       "      <td>BMW</td>\n",
       "      <td>100</td>\n",
       "    </tr>\n",
       "    <tr>\n",
       "      <th>1</th>\n",
       "      <td>Lexus</td>\n",
       "      <td>150</td>\n",
       "    </tr>\n",
       "    <tr>\n",
       "      <th>2</th>\n",
       "      <td>Audi</td>\n",
       "      <td>110</td>\n",
       "    </tr>\n",
       "    <tr>\n",
       "      <th>3</th>\n",
       "      <td>Tesla</td>\n",
       "      <td>80</td>\n",
       "    </tr>\n",
       "    <tr>\n",
       "      <th>4</th>\n",
       "      <td>Bentley</td>\n",
       "      <td>110</td>\n",
       "    </tr>\n",
       "    <tr>\n",
       "      <th>5</th>\n",
       "      <td>Jaguar</td>\n",
       "      <td>90</td>\n",
       "    </tr>\n",
       "  </tbody>\n",
       "</table>\n",
       "</div>"
      ],
      "text/plain": [
       "       Car  Units\n",
       "0      BMW    100\n",
       "1    Lexus    150\n",
       "2     Audi    110\n",
       "3    Tesla     80\n",
       "4  Bentley    110\n",
       "5   Jaguar     90"
      ]
     },
     "execution_count": 13,
     "metadata": {},
     "output_type": "execute_result"
    }
   ],
   "source": [
    "first_frame"
   ]
  },
  {
   "cell_type": "code",
   "execution_count": 14,
   "id": "763e454a",
   "metadata": {},
   "outputs": [
    {
     "data": {
      "text/html": [
       "<div>\n",
       "<style scoped>\n",
       "    .dataframe tbody tr th:only-of-type {\n",
       "        vertical-align: middle;\n",
       "    }\n",
       "\n",
       "    .dataframe tbody tr th {\n",
       "        vertical-align: top;\n",
       "    }\n",
       "\n",
       "    .dataframe thead th {\n",
       "        text-align: right;\n",
       "    }\n",
       "</style>\n",
       "<table border=\"1\" class=\"dataframe\">\n",
       "  <thead>\n",
       "    <tr style=\"text-align: right;\">\n",
       "      <th></th>\n",
       "      <th>Car</th>\n",
       "      <th>Units</th>\n",
       "    </tr>\n",
       "  </thead>\n",
       "  <tbody>\n",
       "    <tr>\n",
       "      <th>0</th>\n",
       "      <td>BMW</td>\n",
       "      <td>100</td>\n",
       "    </tr>\n",
       "    <tr>\n",
       "      <th>1</th>\n",
       "      <td>Lexus</td>\n",
       "      <td>250</td>\n",
       "    </tr>\n",
       "    <tr>\n",
       "      <th>2</th>\n",
       "      <td>Audi</td>\n",
       "      <td>150</td>\n",
       "    </tr>\n",
       "    <tr>\n",
       "      <th>3</th>\n",
       "      <td>Mustang</td>\n",
       "      <td>80</td>\n",
       "    </tr>\n",
       "    <tr>\n",
       "      <th>4</th>\n",
       "      <td>Bentley</td>\n",
       "      <td>130</td>\n",
       "    </tr>\n",
       "    <tr>\n",
       "      <th>5</th>\n",
       "      <td>Jaguar</td>\n",
       "      <td>90</td>\n",
       "    </tr>\n",
       "  </tbody>\n",
       "</table>\n",
       "</div>"
      ],
      "text/plain": [
       "       Car  Units\n",
       "0      BMW    100\n",
       "1    Lexus    250\n",
       "2     Audi    150\n",
       "3  Mustang     80\n",
       "4  Bentley    130\n",
       "5   Jaguar     90"
      ]
     },
     "execution_count": 14,
     "metadata": {},
     "output_type": "execute_result"
    }
   ],
   "source": [
    "second_frame"
   ]
  },
  {
   "cell_type": "code",
   "execution_count": 15,
   "id": "7f745ab2",
   "metadata": {},
   "outputs": [
    {
     "data": {
      "text/html": [
       "<div>\n",
       "<style scoped>\n",
       "    .dataframe tbody tr th:only-of-type {\n",
       "        vertical-align: middle;\n",
       "    }\n",
       "\n",
       "    .dataframe tbody tr th {\n",
       "        vertical-align: top;\n",
       "    }\n",
       "\n",
       "    .dataframe thead th {\n",
       "        text-align: right;\n",
       "    }\n",
       "</style>\n",
       "<table border=\"1\" class=\"dataframe\">\n",
       "  <thead>\n",
       "    <tr style=\"text-align: right;\">\n",
       "      <th></th>\n",
       "      <th>Car</th>\n",
       "      <th>Units</th>\n",
       "    </tr>\n",
       "  </thead>\n",
       "  <tbody>\n",
       "    <tr>\n",
       "      <th>0</th>\n",
       "      <td>BMW</td>\n",
       "      <td>100</td>\n",
       "    </tr>\n",
       "    <tr>\n",
       "      <th>1</th>\n",
       "      <td>Jaguar</td>\n",
       "      <td>90</td>\n",
       "    </tr>\n",
       "  </tbody>\n",
       "</table>\n",
       "</div>"
      ],
      "text/plain": [
       "      Car  Units\n",
       "0     BMW    100\n",
       "1  Jaguar     90"
      ]
     },
     "execution_count": 15,
     "metadata": {},
     "output_type": "execute_result"
    }
   ],
   "source": [
    "first_frame.merge(second_frame, how='inner')"
   ]
  },
  {
   "cell_type": "markdown",
   "id": "d3f28086",
   "metadata": {},
   "source": [
    "#### iii. To remove rows in NumPy array that contains non-numeric values and then find the sum of remaining numeric values."
   ]
  },
  {
   "cell_type": "code",
   "execution_count": 16,
   "id": "d8b9e943",
   "metadata": {},
   "outputs": [
    {
     "name": "stdout",
     "output_type": "stream",
     "text": [
      "Given Array...\n",
      "\n",
      "[[ 1.  2.  3.  4.]\n",
      " [ 2.  3. nan  4.]\n",
      " [ 5.  6.  7.  8.]\n",
      " [nan  9. nan  1.]]\n",
      "\n",
      "Numeric Array...\n",
      "\n",
      "[[1. 2. 3. 4.]\n",
      " [5. 6. 7. 8.]]\n",
      "\n",
      "Sum:  36.0\n"
     ]
    }
   ],
   "source": [
    "import numpy as np\n",
    "\n",
    "arr = np.array([[1, 2, 3, 4],\n",
    "                [2, 3, np.nan, 4],\n",
    "                [5, 6, 7, 8],\n",
    "                [np.nan, 9, np.nan, 1]])\n",
    "\n",
    "print('Given Array...\\n')\n",
    "print(arr)\n",
    "\n",
    "num_arr = arr[~np.isnan(arr).any(axis=1)]\n",
    "\n",
    "print('\\nNumeric Array...\\n')\n",
    "print(num_arr)\n",
    "\n",
    "print('\\nSum: ', np.sum(num_arr))"
   ]
  },
  {
   "cell_type": "markdown",
   "id": "89467c34",
   "metadata": {},
   "source": [
    "#### iv. To find the indices of elements equal to zero in a NumPy array."
   ]
  },
  {
   "cell_type": "code",
   "execution_count": 17,
   "id": "bd9a6e5c",
   "metadata": {},
   "outputs": [
    {
     "name": "stdout",
     "output_type": "stream",
     "text": [
      "Indices of elements equal to zero:  [ 1  3  5  6 11]\n"
     ]
    }
   ],
   "source": [
    "import numpy as np\n",
    "\n",
    "arr = np.array([1, 0, 2, 0, 3, 0, 0, 5, 6, 7, 5, 0, 8])\n",
    "print('Indices of elements equal to zero: ', np.where(arr == 0)[0])"
   ]
  },
  {
   "cell_type": "markdown",
   "id": "5176f378",
   "metadata": {},
   "source": [
    "#### v. To find whether a given string is palindrome or not."
   ]
  },
  {
   "cell_type": "code",
   "execution_count": 18,
   "id": "39cd202c",
   "metadata": {},
   "outputs": [
    {
     "name": "stdout",
     "output_type": "stream",
     "text": [
      "Enter a string: madam\n",
      "String is palindrome.\n"
     ]
    }
   ],
   "source": [
    "string = input('Enter a string: ')\n",
    "\n",
    "if (string == string[::-1]):\n",
    "    print('String is palindrome.')\n",
    "else:\n",
    "    print('String is not palindrome.')"
   ]
  }
 ],
 "metadata": {
  "kernelspec": {
   "display_name": "Python 3 (ipykernel)",
   "language": "python",
   "name": "python3"
  },
  "language_info": {
   "codemirror_mode": {
    "name": "ipython",
    "version": 3
   },
   "file_extension": ".py",
   "mimetype": "text/x-python",
   "name": "python",
   "nbconvert_exporter": "python",
   "pygments_lexer": "ipython3",
   "version": "3.9.7"
  }
 },
 "nbformat": 4,
 "nbformat_minor": 5
}
