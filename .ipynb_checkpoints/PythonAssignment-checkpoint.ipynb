{
 "cells": [
  {
   "cell_type": "code",
   "execution_count": null,
   "id": "4fe731ff",
   "metadata": {},
   "outputs": [],
   "source": [
    "# Question 1 "
   ]
  },
  {
   "cell_type": "code",
   "execution_count": 1,
   "id": "618928a7",
   "metadata": {},
   "outputs": [],
   "source": [
    "def remove_duplicate(mylist):\n",
    "    result = []\n",
    "    for element in mylist:\n",
    "        if element not in result:\n",
    "            result.append(element)\n",
    "    return result"
   ]
  },
  {
   "cell_type": "code",
   "execution_count": 2,
   "id": "7cf31ee9",
   "metadata": {},
   "outputs": [],
   "source": [
    "mylist = [1, 2, 3, 4, 4, 2, 3, 5, 6, 7, 9, 8]\n",
    "resultant_list = remove_duplicate(mylist)"
   ]
  },
  {
   "cell_type": "code",
   "execution_count": 3,
   "id": "2e3b7666",
   "metadata": {},
   "outputs": [
    {
     "data": {
      "text/plain": [
       "[1, 2, 3, 4, 5, 6, 7, 9, 8]"
      ]
     },
     "execution_count": 3,
     "metadata": {},
     "output_type": "execute_result"
    }
   ],
   "source": [
    "resultant_list"
   ]
  },
  {
   "cell_type": "code",
   "execution_count": 4,
   "id": "2ec274db",
   "metadata": {},
   "outputs": [],
   "source": [
    "# Question 2"
   ]
  },
  {
   "cell_type": "code",
   "execution_count": 16,
   "id": "111fecd3",
   "metadata": {},
   "outputs": [],
   "source": [
    "def create_list(mylist):\n",
    "    return [sum(mylist[0:index + 1]) for index in range(0, len(mylist))]"
   ]
  },
  {
   "cell_type": "code",
   "execution_count": 6,
   "id": "49fc29fa",
   "metadata": {},
   "outputs": [
    {
     "name": "stdout",
     "output_type": "stream",
     "text": [
      "Enter the number of elements in the list: 10\n",
      "Enter the elements in the list...\n",
      "1\n",
      "2\n",
      "3\n",
      "4\n",
      "5\n",
      "6\n",
      "7\n",
      "8\n",
      "9\n",
      "10\n"
     ]
    }
   ],
   "source": [
    "mylist = []\n",
    "\n",
    "size = int(input('Enter the number of elements in the list: '))\n",
    "\n",
    "print('Enter the elements in the list...')\n",
    "for _ in range(0, size):\n",
    "    element = int(input())\n",
    "    mylist.append(element)"
   ]
  },
  {
   "cell_type": "code",
   "execution_count": 17,
   "id": "6447b89c",
   "metadata": {},
   "outputs": [],
   "source": [
    "cu_list = create_list(mylist)"
   ]
  },
  {
   "cell_type": "code",
   "execution_count": 18,
   "id": "98a9e1e2",
   "metadata": {},
   "outputs": [
    {
     "data": {
      "text/plain": [
       "[1, 3, 6, 10, 15, 21, 28, 36, 45, 55]"
      ]
     },
     "execution_count": 18,
     "metadata": {},
     "output_type": "execute_result"
    }
   ],
   "source": [
    "cu_list"
   ]
  },
  {
   "cell_type": "code",
   "execution_count": 19,
   "id": "32b3f706",
   "metadata": {},
   "outputs": [],
   "source": [
    "# Question 3"
   ]
  },
  {
   "cell_type": "code",
   "execution_count": 20,
   "id": "ed5451d0",
   "metadata": {},
   "outputs": [],
   "source": [
    "def count_letter(sentence):\n",
    "    count = {}\n",
    "    \n",
    "    for letter in sentence:\n",
    "        if letter in count:\n",
    "            count[letter] += 1\n",
    "        else:\n",
    "            count[letter] = 1\n",
    "            \n",
    "    return count"
   ]
  },
  {
   "cell_type": "code",
   "execution_count": 21,
   "id": "76badda2",
   "metadata": {},
   "outputs": [
    {
     "name": "stdout",
     "output_type": "stream",
     "text": [
      "Enter a sentence: Hello World! This is Shivam Verma.\n"
     ]
    }
   ],
   "source": [
    "sentence = input('Enter a sentence: ')"
   ]
  },
  {
   "cell_type": "code",
   "execution_count": 22,
   "id": "9f603760",
   "metadata": {},
   "outputs": [],
   "source": [
    "count = count_letter(sentence)"
   ]
  },
  {
   "cell_type": "code",
   "execution_count": 23,
   "id": "10fdec38",
   "metadata": {},
   "outputs": [
    {
     "data": {
      "text/plain": [
       "{'H': 1,\n",
       " 'e': 2,\n",
       " 'l': 3,\n",
       " 'o': 2,\n",
       " ' ': 5,\n",
       " 'W': 1,\n",
       " 'r': 2,\n",
       " 'd': 1,\n",
       " '!': 1,\n",
       " 'T': 1,\n",
       " 'h': 2,\n",
       " 'i': 3,\n",
       " 's': 2,\n",
       " 'S': 1,\n",
       " 'v': 1,\n",
       " 'a': 2,\n",
       " 'm': 2,\n",
       " 'V': 1,\n",
       " '.': 1}"
      ]
     },
     "execution_count": 23,
     "metadata": {},
     "output_type": "execute_result"
    }
   ],
   "source": [
    "count"
   ]
  },
  {
   "cell_type": "code",
   "execution_count": 24,
   "id": "09ddd34c",
   "metadata": {},
   "outputs": [],
   "source": [
    "# Question 6"
   ]
  },
  {
   "cell_type": "code",
   "execution_count": 27,
   "id": "4fe183d0",
   "metadata": {},
   "outputs": [],
   "source": [
    "def create_nested_list():\n",
    "    n = int(input('Enter a number: '))\n",
    "    \n",
    "    return [[i * num for num in range(1, 6)] for i in range(1, n + 1)]"
   ]
  },
  {
   "cell_type": "code",
   "execution_count": 28,
   "id": "b0d740c1",
   "metadata": {},
   "outputs": [
    {
     "name": "stdout",
     "output_type": "stream",
     "text": [
      "Enter a number: 5\n"
     ]
    },
    {
     "data": {
      "text/plain": [
       "[[1, 2, 3, 4, 5],\n",
       " [2, 4, 6, 8, 10],\n",
       " [3, 6, 9, 12, 15],\n",
       " [4, 8, 12, 16, 20],\n",
       " [5, 10, 15, 20, 25]]"
      ]
     },
     "execution_count": 28,
     "metadata": {},
     "output_type": "execute_result"
    }
   ],
   "source": [
    "create_nested_list()"
   ]
  },
  {
   "cell_type": "code",
   "execution_count": 29,
   "id": "b7df48dc",
   "metadata": {},
   "outputs": [],
   "source": [
    "# Question 7"
   ]
  },
  {
   "cell_type": "code",
   "execution_count": 35,
   "id": "da3522bd",
   "metadata": {},
   "outputs": [],
   "source": [
    "mydict = {'0': 'Zero', '1': 'One', '2': 'Two', '3': 'Three', '4': 'Four', '5': 'Five', '6': 'Six', '7': 'Seven', '8': 'Eight', '9': 'Nine'}"
   ]
  },
  {
   "cell_type": "code",
   "execution_count": 38,
   "id": "65a1c161",
   "metadata": {},
   "outputs": [],
   "source": [
    "def number_to_text():\n",
    "    number = input('Enter the number: ')\n",
    "    \n",
    "    text = ''\n",
    "    \n",
    "    for digit in number:\n",
    "        text = ' '.join([text, mydict[digit]])\n",
    "        \n",
    "    return text"
   ]
  },
  {
   "cell_type": "code",
   "execution_count": 39,
   "id": "1df98b43",
   "metadata": {},
   "outputs": [
    {
     "name": "stdout",
     "output_type": "stream",
     "text": [
      "Enter the number: 456\n"
     ]
    },
    {
     "data": {
      "text/plain": [
       "' Four Five Six'"
      ]
     },
     "execution_count": 39,
     "metadata": {},
     "output_type": "execute_result"
    }
   ],
   "source": [
    "number_to_text()"
   ]
  }
 ],
 "metadata": {
  "kernelspec": {
   "display_name": "Python 3",
   "language": "python",
   "name": "python3"
  },
  "language_info": {
   "codemirror_mode": {
    "name": "ipython",
    "version": 3
   },
   "file_extension": ".py",
   "mimetype": "text/x-python",
   "name": "python",
   "nbconvert_exporter": "python",
   "pygments_lexer": "ipython3",
   "version": "3.9.6"
  }
 },
 "nbformat": 4,
 "nbformat_minor": 5
}
