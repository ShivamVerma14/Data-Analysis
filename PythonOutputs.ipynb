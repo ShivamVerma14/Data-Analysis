{
 "cells": [
  {
   "cell_type": "code",
   "execution_count": null,
   "id": "536a65cd",
   "metadata": {},
   "outputs": [],
   "source": [
    "# Question 4"
   ]
  },
  {
   "cell_type": "code",
   "execution_count": 5,
   "id": "d847d4ee",
   "metadata": {},
   "outputs": [],
   "source": [
    "def func():\n",
    "    l1 = list()\n",
    "    l2 = list()\n",
    "    \n",
    "    for i in range(0, 5):\n",
    "        l1.append(i)\n",
    "        l2.append(i+3)\n",
    "        \n",
    "    print(l1)\n",
    "    print(l2)"
   ]
  },
  {
   "cell_type": "code",
   "execution_count": 8,
   "id": "102a0aa1",
   "metadata": {},
   "outputs": [
    {
     "name": "stdout",
     "output_type": "stream",
     "text": [
      "[0, 1, 2, 3, 4]\n",
      "[3, 4, 5, 6, 7]\n"
     ]
    }
   ],
   "source": [
    "func()"
   ]
  },
  {
   "cell_type": "code",
   "execution_count": 38,
   "id": "7e6c6c53",
   "metadata": {},
   "outputs": [],
   "source": [
    "def func1():\n",
    "    l1 = list()\n",
    "    l2 = list()\n",
    "    \n",
    "    for i in range(0, 5):\n",
    "        l1.append(i)\n",
    "        l2.append(i+3)\n",
    "        l1, l2 = l2, l1\n",
    "        \n",
    "    print(l1)\n",
    "    print(l2)"
   ]
  },
  {
   "cell_type": "code",
   "execution_count": 39,
   "id": "d3e69d25",
   "metadata": {},
   "outputs": [
    {
     "name": "stdout",
     "output_type": "stream",
     "text": [
      "[3, 1, 5, 3, 7]\n",
      "[0, 4, 2, 6, 4]\n"
     ]
    }
   ],
   "source": [
    "func1()"
   ]
  },
  {
   "cell_type": "code",
   "execution_count": null,
   "id": "baa3b737",
   "metadata": {},
   "outputs": [],
   "source": [
    "# Question 5"
   ]
  },
  {
   "cell_type": "code",
   "execution_count": 9,
   "id": "f6adc6be",
   "metadata": {},
   "outputs": [
    {
     "name": "stdout",
     "output_type": "stream",
     "text": [
      "30\n"
     ]
    }
   ],
   "source": [
    "c = [1, 2, 3, 4, 5, 6, 7, 8, 9, 10]\n",
    "result = 0\n",
    "\n",
    "for i in range(0, 10):\n",
    "    if c[i] % 2 == 0:\n",
    "        result += c[i]\n",
    "        \n",
    "print(result)"
   ]
  },
  {
   "cell_type": "code",
   "execution_count": 10,
   "id": "4310c329",
   "metadata": {},
   "outputs": [
    {
     "name": "stdout",
     "output_type": "stream",
     "text": [
      "25\n"
     ]
    }
   ],
   "source": [
    "c = [1, 2, 3, 4, 5, 6, 7, 8, 9, 10]\n",
    "result = 0\n",
    "\n",
    "for i in range(0, 10):\n",
    "    if c[i] % 2 != 0:\n",
    "        result += c[i]\n",
    "        \n",
    "print(result)"
   ]
  },
  {
   "cell_type": "code",
   "execution_count": 11,
   "id": "5907d9a6",
   "metadata": {},
   "outputs": [
    {
     "name": "stdout",
     "output_type": "stream",
     "text": [
      "omputerc\n"
     ]
    }
   ],
   "source": [
    "subject = 'computer'\n",
    "subject = list(subject)\n",
    "ch = subject[0]\n",
    "\n",
    "for i in range(0, len(subject)-1):\n",
    "    subject[i] = subject[i+1]\n",
    "subject[len(subject)-1] = ch\n",
    "\n",
    "print(''.join(subject))"
   ]
  },
  {
   "cell_type": "code",
   "execution_count": 12,
   "id": "b7681add",
   "metadata": {},
   "outputs": [
    {
     "name": "stdout",
     "output_type": "stream",
     "text": [
      "219\n"
     ]
    }
   ],
   "source": [
    "quantity = [15, 30, 12, 34, 56, 99]\n",
    "total = 0\n",
    "for i in range(0, len(quantity)):\n",
    "    if quantity[i] > 15:\n",
    "        total += quantity[i]\n",
    "        \n",
    "print(total)"
   ]
  },
  {
   "cell_type": "code",
   "execution_count": 13,
   "id": "84367ec8",
   "metadata": {},
   "outputs": [
    {
     "name": "stdout",
     "output_type": "stream",
     "text": [
      "[2, 4, 8, 12, 36, 20, 24, 63, 34]\n"
     ]
    }
   ],
   "source": [
    "x = [1, 2, 4, 6, 9, 10, 14, 15, 17]\n",
    "\n",
    "for i in range(0, len(x)):\n",
    "    if x[i] % 2 == 0:\n",
    "        x[i] = 4 * i\n",
    "        \n",
    "    elif x[i] % 3 == 0:\n",
    "        x[i] = 9 * i\n",
    "        \n",
    "    else:\n",
    "        x[i] *= 2\n",
    "        \n",
    "print(x)"
   ]
  },
  {
   "cell_type": "code",
   "execution_count": null,
   "id": "ebf6eda4",
   "metadata": {},
   "outputs": [],
   "source": [
    "# Question 8"
   ]
  },
  {
   "cell_type": "code",
   "execution_count": 40,
   "id": "ee40e82c",
   "metadata": {},
   "outputs": [],
   "source": [
    "address = 'B-6, Lodhi road, Delhi'\n",
    "list1 = [1, 2, 3]\n",
    "list2 = ['a', 1, 'z', 26, 'd', 4]\n",
    "tuple1 = ('a', 'e', 'i', 'o', 'u')\n",
    "tuple2 = ([2, 4, 8, 6], [3, 6, 9], [4, 8], 5)\n",
    "dict1 = {'apple': 'red', 'mango': 'yellow', 'orange': 'orange'}\n",
    "dict2 = {'X': ['eng', 'hindi', 'maths', 'science'], 'XII': ['english', 'physics', 'chemistry', 'maths']}"
   ]
  },
  {
   "cell_type": "code",
   "execution_count": 41,
   "id": "61c9cf91",
   "metadata": {},
   "outputs": [
    {
     "ename": "IndexError",
     "evalue": "list assignment index out of range",
     "output_type": "error",
     "traceback": [
      "\u001b[1;31m---------------------------------------------------------------------------\u001b[0m",
      "\u001b[1;31mIndexError\u001b[0m                                Traceback (most recent call last)",
      "\u001b[1;32m<ipython-input-41-2d1b360c186c>\u001b[0m in \u001b[0;36m<module>\u001b[1;34m\u001b[0m\n\u001b[1;32m----> 1\u001b[1;33m \u001b[0mlist1\u001b[0m\u001b[1;33m[\u001b[0m\u001b[1;36m3\u001b[0m\u001b[1;33m]\u001b[0m \u001b[1;33m=\u001b[0m \u001b[1;36m4\u001b[0m\u001b[1;33m\u001b[0m\u001b[1;33m\u001b[0m\u001b[0m\n\u001b[0m",
      "\u001b[1;31mIndexError\u001b[0m: list assignment index out of range"
     ]
    }
   ],
   "source": [
    "list1[3] = 4"
   ]
  },
  {
   "cell_type": "code",
   "execution_count": 5,
   "id": "753f5e38",
   "metadata": {},
   "outputs": [
    {
     "name": "stdout",
     "output_type": "stream",
     "text": [
      "[1, 2, 3, 1, 2, 3]\n"
     ]
    }
   ],
   "source": [
    "print(list1 * 2)"
   ]
  },
  {
   "cell_type": "code",
   "execution_count": 6,
   "id": "e5de7a6c",
   "metadata": {},
   "outputs": [
    {
     "ename": "TypeError",
     "evalue": "'<' not supported between instances of 'int' and 'str'",
     "output_type": "error",
     "traceback": [
      "\u001b[1;31m---------------------------------------------------------------------------\u001b[0m",
      "\u001b[1;31mTypeError\u001b[0m                                 Traceback (most recent call last)",
      "\u001b[1;32m<ipython-input-6-d90d6f2f8bc9>\u001b[0m in \u001b[0;36m<module>\u001b[1;34m\u001b[0m\n\u001b[1;32m----> 1\u001b[1;33m \u001b[0mprint\u001b[0m\u001b[1;33m(\u001b[0m\u001b[0mmin\u001b[0m\u001b[1;33m(\u001b[0m\u001b[0mlist2\u001b[0m\u001b[1;33m)\u001b[0m\u001b[1;33m)\u001b[0m\u001b[1;33m\u001b[0m\u001b[1;33m\u001b[0m\u001b[0m\n\u001b[0m",
      "\u001b[1;31mTypeError\u001b[0m: '<' not supported between instances of 'int' and 'str'"
     ]
    }
   ],
   "source": [
    "print(min(list2))"
   ]
  },
  {
   "cell_type": "code",
   "execution_count": 7,
   "id": "0ea58001",
   "metadata": {},
   "outputs": [
    {
     "name": "stdout",
     "output_type": "stream",
     "text": [
      "3\n"
     ]
    }
   ],
   "source": [
    "print(max(list1))"
   ]
  },
  {
   "cell_type": "code",
   "execution_count": 8,
   "id": "d0797da2",
   "metadata": {},
   "outputs": [
    {
     "name": "stdout",
     "output_type": "stream",
     "text": [
      "['B', '-', '6', ',', ' ', 'L', 'o', 'd', 'h', 'i', ' ', 'r', 'o', 'a', 'd', ',', ' ', 'D', 'e', 'l', 'h', 'i']\n"
     ]
    }
   ],
   "source": [
    "print(list(address))"
   ]
  },
  {
   "cell_type": "code",
   "execution_count": 9,
   "id": "04425911",
   "metadata": {},
   "outputs": [
    {
     "name": "stdout",
     "output_type": "stream",
     "text": [
      "['a', 1, 'z', 26, 'd', 4, 'e', 5]\n"
     ]
    }
   ],
   "source": [
    "list2.extend(['e', 5])\n",
    "print(list2)"
   ]
  },
  {
   "cell_type": "code",
   "execution_count": 10,
   "id": "8e780db6",
   "metadata": {},
   "outputs": [
    {
     "name": "stdout",
     "output_type": "stream",
     "text": [
      "['a', 1, 'z', 26, 'd', 4, 'e', 5, ['e', 5]]\n"
     ]
    }
   ],
   "source": [
    "list2.append(['e', 5])\n",
    "print(list2)"
   ]
  },
  {
   "cell_type": "code",
   "execution_count": 11,
   "id": "fc740d98",
   "metadata": {},
   "outputs": [
    {
     "name": "stdout",
     "output_type": "stream",
     "text": [
      "['gita', 'rohan', 'mohan']\n"
     ]
    }
   ],
   "source": [
    "names = ['rohan', 'mohan', 'gita']\n",
    "names.sort(key = len)\n",
    "print(names)"
   ]
  },
  {
   "cell_type": "code",
   "execution_count": 12,
   "id": "6bebdaa8",
   "metadata": {},
   "outputs": [
    {
     "name": "stdout",
     "output_type": "stream",
     "text": [
      "[2, 4, 6, 8, 10, 12, 14, 16, 18, 20]\n"
     ]
    }
   ],
   "source": [
    "list3 = [x * 2 for x in range(1, 11)]\n",
    "print(list3)"
   ]
  },
  {
   "cell_type": "code",
   "execution_count": 13,
   "id": "afe4fb44",
   "metadata": {},
   "outputs": [
    {
     "name": "stdout",
     "output_type": "stream",
     "text": [
      "[2]\n"
     ]
    }
   ],
   "source": [
    "del list3[1:]\n",
    "print(list3)"
   ]
  },
  {
   "cell_type": "code",
   "execution_count": 42,
   "id": "3d90c4d5",
   "metadata": {},
   "outputs": [
    {
     "name": "stdout",
     "output_type": "stream",
     "text": [
      "[2, 3, 4, 5, 3, 4, 5, 6, 4, 5, 6, 7, 5, 6, 7, 8]\n"
     ]
    }
   ],
   "source": [
    "list4 = [x + y for x in range(1, 5) for y in range(1, 5)]\n",
    "print(list4)"
   ]
  },
  {
   "cell_type": "code",
   "execution_count": 14,
   "id": "7af5a204",
   "metadata": {},
   "outputs": [
    {
     "ename": "TypeError",
     "evalue": "'tuple' object does not support item assignment",
     "output_type": "error",
     "traceback": [
      "\u001b[1;31m---------------------------------------------------------------------------\u001b[0m",
      "\u001b[1;31mTypeError\u001b[0m                                 Traceback (most recent call last)",
      "\u001b[1;32m<ipython-input-14-b0f4824fde07>\u001b[0m in \u001b[0;36m<module>\u001b[1;34m\u001b[0m\n\u001b[1;32m----> 1\u001b[1;33m \u001b[0mtuple2\u001b[0m\u001b[1;33m[\u001b[0m\u001b[1;36m3\u001b[0m\u001b[1;33m]\u001b[0m \u001b[1;33m=\u001b[0m \u001b[1;36m6\u001b[0m\u001b[1;33m\u001b[0m\u001b[1;33m\u001b[0m\u001b[0m\n\u001b[0m",
      "\u001b[1;31mTypeError\u001b[0m: 'tuple' object does not support item assignment"
     ]
    }
   ],
   "source": [
    "tuple2[3] = 6"
   ]
  },
  {
   "cell_type": "code",
   "execution_count": 15,
   "id": "672e072c",
   "metadata": {},
   "outputs": [
    {
     "ename": "AttributeError",
     "evalue": "'tuple' object has no attribute 'append'",
     "output_type": "error",
     "traceback": [
      "\u001b[1;31m---------------------------------------------------------------------------\u001b[0m",
      "\u001b[1;31mAttributeError\u001b[0m                            Traceback (most recent call last)",
      "\u001b[1;32m<ipython-input-15-b7c28ec1685a>\u001b[0m in \u001b[0;36m<module>\u001b[1;34m\u001b[0m\n\u001b[1;32m----> 1\u001b[1;33m \u001b[0mtuple2\u001b[0m\u001b[1;33m.\u001b[0m\u001b[0mappend\u001b[0m\u001b[1;33m(\u001b[0m\u001b[1;36m5\u001b[0m\u001b[1;33m)\u001b[0m\u001b[1;33m\u001b[0m\u001b[1;33m\u001b[0m\u001b[0m\n\u001b[0m",
      "\u001b[1;31mAttributeError\u001b[0m: 'tuple' object has no attribute 'append'"
     ]
    }
   ],
   "source": [
    "tuple2.append(5)"
   ]
  },
  {
   "cell_type": "code",
   "execution_count": 16,
   "id": "69c7a43b",
   "metadata": {},
   "outputs": [
    {
     "ename": "TypeError",
     "evalue": "can only concatenate tuple (not \"int\") to tuple",
     "output_type": "error",
     "traceback": [
      "\u001b[1;31m---------------------------------------------------------------------------\u001b[0m",
      "\u001b[1;31mTypeError\u001b[0m                                 Traceback (most recent call last)",
      "\u001b[1;32m<ipython-input-16-06cc9ee1fe85>\u001b[0m in \u001b[0;36m<module>\u001b[1;34m\u001b[0m\n\u001b[1;32m----> 1\u001b[1;33m \u001b[0mt1\u001b[0m \u001b[1;33m=\u001b[0m \u001b[0mtuple2\u001b[0m \u001b[1;33m+\u001b[0m \u001b[1;33m(\u001b[0m\u001b[1;36m5\u001b[0m\u001b[1;33m)\u001b[0m\u001b[1;33m\u001b[0m\u001b[1;33m\u001b[0m\u001b[0m\n\u001b[0m",
      "\u001b[1;31mTypeError\u001b[0m: can only concatenate tuple (not \"int\") to tuple"
     ]
    }
   ],
   "source": [
    "t1 = tuple2 + (5)"
   ]
  },
  {
   "cell_type": "code",
   "execution_count": 17,
   "id": "c68d17cb",
   "metadata": {},
   "outputs": [
    {
     "data": {
      "text/plain": [
       "'a,e,i,o,u'"
      ]
     },
     "execution_count": 17,
     "metadata": {},
     "output_type": "execute_result"
    }
   ],
   "source": [
    "','.join(tuple1)"
   ]
  },
  {
   "cell_type": "code",
   "execution_count": 18,
   "id": "6e956159",
   "metadata": {},
   "outputs": [
    {
     "data": {
      "text/plain": [
       "[('apple', 'red'), ('orange', 'orange')]"
      ]
     },
     "execution_count": 18,
     "metadata": {},
     "output_type": "execute_result"
    }
   ],
   "source": [
    "list(zip(['apple', 'orange'], ('red', 'orange')))"
   ]
  },
  {
   "cell_type": "code",
   "execution_count": 19,
   "id": "eedc6026",
   "metadata": {},
   "outputs": [
    {
     "data": {
      "text/plain": [
       "['english', 'physics', 'chemistry', 'maths']"
      ]
     },
     "execution_count": 19,
     "metadata": {},
     "output_type": "execute_result"
    }
   ],
   "source": [
    "dict2['XII']"
   ]
  },
  {
   "cell_type": "code",
   "execution_count": 20,
   "id": "56cdd2f8",
   "metadata": {},
   "outputs": [
    {
     "data": {
      "text/plain": [
       "(None,\n",
       " {'X': ['eng', 'hindi', 'maths', 'science'],\n",
       "  'XII': ['english', 'physics', 'chemistry', 'maths', 'computer science']})"
      ]
     },
     "execution_count": 20,
     "metadata": {},
     "output_type": "execute_result"
    }
   ],
   "source": [
    "dict2['XII'].append('computer science'), dict2"
   ]
  },
  {
   "cell_type": "code",
   "execution_count": 21,
   "id": "a487986b",
   "metadata": {},
   "outputs": [
    {
     "data": {
      "text/plain": [
       "False"
      ]
     },
     "execution_count": 21,
     "metadata": {},
     "output_type": "execute_result"
    }
   ],
   "source": [
    "'red' in dict1"
   ]
  },
  {
   "cell_type": "code",
   "execution_count": 22,
   "id": "62e42528",
   "metadata": {},
   "outputs": [
    {
     "data": {
      "text/plain": [
       "[('apple', 'red'), ('mango', 'yellow'), ('orange', 'orange')]"
      ]
     },
     "execution_count": 22,
     "metadata": {},
     "output_type": "execute_result"
    }
   ],
   "source": [
    "list(dict1.items())"
   ]
  },
  {
   "cell_type": "code",
   "execution_count": 23,
   "id": "4d9bb965",
   "metadata": {},
   "outputs": [
    {
     "data": {
      "text/plain": [
       "['X', 'XII']"
      ]
     },
     "execution_count": 23,
     "metadata": {},
     "output_type": "execute_result"
    }
   ],
   "source": [
    "list(dict2.keys())"
   ]
  },
  {
   "cell_type": "code",
   "execution_count": 24,
   "id": "e03cd28e",
   "metadata": {},
   "outputs": [
    {
     "data": {
      "text/plain": [
       "'None'"
      ]
     },
     "execution_count": 24,
     "metadata": {},
     "output_type": "execute_result"
    }
   ],
   "source": [
    "dict2.get('XI', 'None')"
   ]
  },
  {
   "cell_type": "code",
   "execution_count": 25,
   "id": "45a81804",
   "metadata": {},
   "outputs": [
    {
     "name": "stdout",
     "output_type": "stream",
     "text": [
      "{'apple': 'red', 'mango': 'yellow', 'orange': 'orange', 'kiwi': 'green'}\n"
     ]
    }
   ],
   "source": [
    "dict1.update({'kiwi': 'green'})\n",
    "print(dict1)"
   ]
  },
  {
   "cell_type": "code",
   "execution_count": null,
   "id": "ae0d7f18",
   "metadata": {},
   "outputs": [],
   "source": [
    "# Question 9"
   ]
  },
  {
   "cell_type": "code",
   "execution_count": 27,
   "id": "0bcdb668",
   "metadata": {},
   "outputs": [],
   "source": [
    "vehicles = {'Bicycle', 'Scooter', 'Car', 'Bike', 'Truck', 'Bus', 'Rickshaw'}\n",
    "heavyVehicles = {'Truck', 'Bus'}\n",
    "lightVehicles = {'Rickshaw', 'Scooter', 'Bike', 'Bicycle'}"
   ]
  },
  {
   "cell_type": "code",
   "execution_count": 29,
   "id": "86cb2f7d",
   "metadata": {},
   "outputs": [
    {
     "name": "stdout",
     "output_type": "stream",
     "text": [
      "{'Bike', 'Rickshaw', 'Scooter', 'Bicycle', 'Car'}\n"
     ]
    }
   ],
   "source": [
    "lytVehicles = vehicles - heavyVehicles\n",
    "print(lytVehicles)"
   ]
  },
  {
   "cell_type": "code",
   "execution_count": 30,
   "id": "143ccd0e",
   "metadata": {},
   "outputs": [
    {
     "name": "stdout",
     "output_type": "stream",
     "text": [
      "{'Bus', 'Truck', 'Car'}\n"
     ]
    }
   ],
   "source": [
    "hvyVehicles = vehicles - lightVehicles\n",
    "print(hvyVehicles)"
   ]
  },
  {
   "cell_type": "code",
   "execution_count": 31,
   "id": "e53b1b28",
   "metadata": {},
   "outputs": [
    {
     "name": "stdout",
     "output_type": "stream",
     "text": [
      "{'Car'}\n"
     ]
    }
   ],
   "source": [
    "averageWeightVehicles = lytVehicles & hvyVehicles\n",
    "print(averageWeightVehicles)"
   ]
  },
  {
   "cell_type": "code",
   "execution_count": 32,
   "id": "5b25c62d",
   "metadata": {},
   "outputs": [
    {
     "name": "stdout",
     "output_type": "stream",
     "text": [
      "{'Bike', 'Bicycle', 'Truck', 'Rickshaw', 'Bus', 'Scooter'}\n"
     ]
    }
   ],
   "source": [
    "transport = lightVehicles | heavyVehicles\n",
    "print(transport)"
   ]
  },
  {
   "cell_type": "code",
   "execution_count": 33,
   "id": "b7b7c13b",
   "metadata": {},
   "outputs": [
    {
     "name": "stdout",
     "output_type": "stream",
     "text": [
      "{'Bike', 'Bicycle', 'Truck', 'Car', 'Rickshaw', 'Bus', 'Scooter'}\n"
     ]
    }
   ],
   "source": [
    "transport.add('Car')\n",
    "print(transport)"
   ]
  },
  {
   "cell_type": "code",
   "execution_count": 34,
   "id": "3320fcd0",
   "metadata": {},
   "outputs": [
    {
     "name": "stdout",
     "output_type": "stream",
     "text": [
      "Bike\n",
      "Truck\n",
      "Bicycle\n",
      "Car\n",
      "Rickshaw\n",
      "Bus\n",
      "Scooter\n"
     ]
    }
   ],
   "source": [
    "for i in vehicles:\n",
    "    print(i)"
   ]
  },
  {
   "cell_type": "code",
   "execution_count": 35,
   "id": "a88e19cd",
   "metadata": {},
   "outputs": [
    {
     "data": {
      "text/plain": [
       "7"
      ]
     },
     "execution_count": 35,
     "metadata": {},
     "output_type": "execute_result"
    }
   ],
   "source": [
    "len(vehicles)"
   ]
  },
  {
   "cell_type": "code",
   "execution_count": 36,
   "id": "19423bf1",
   "metadata": {},
   "outputs": [
    {
     "data": {
      "text/plain": [
       "'Bicycle'"
      ]
     },
     "execution_count": 36,
     "metadata": {},
     "output_type": "execute_result"
    }
   ],
   "source": [
    "min(vehicles)"
   ]
  },
  {
   "cell_type": "code",
   "execution_count": 37,
   "id": "041a7902",
   "metadata": {},
   "outputs": [
    {
     "data": {
      "text/plain": [
       "{'Bicycle', 'Bike', 'Bus', 'Car', 'Rickshaw', 'Scooter', 'Truck'}"
      ]
     },
     "execution_count": 37,
     "metadata": {},
     "output_type": "execute_result"
    }
   ],
   "source": [
    "set.union(vehicles, lightVehicles, heavyVehicles)"
   ]
  },
  {
   "cell_type": "code",
   "execution_count": null,
   "id": "9aee0309",
   "metadata": {},
   "outputs": [],
   "source": []
  }
 ],
 "metadata": {
  "kernelspec": {
   "display_name": "Python 3",
   "language": "python",
   "name": "python3"
  },
  "language_info": {
   "codemirror_mode": {
    "name": "ipython",
    "version": 3
   },
   "file_extension": ".py",
   "mimetype": "text/x-python",
   "name": "python",
   "nbconvert_exporter": "python",
   "pygments_lexer": "ipython3",
   "version": "3.9.6"
  }
 },
 "nbformat": 4,
 "nbformat_minor": 5
}
